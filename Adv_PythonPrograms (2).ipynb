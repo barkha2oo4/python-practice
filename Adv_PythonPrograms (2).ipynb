{
 "cells": [
  {
   "cell_type": "markdown",
   "id": "a1f618ca",
   "metadata": {},
   "source": [
    "####                                                               Lab Programs\n",
    "### 1. Write a program illustrating class definition and accessing class members."
   ]
  },
  {
   "cell_type": "code",
   "execution_count": 4,
   "id": "6004f107",
   "metadata": {},
   "outputs": [
    {
     "name": "stdout",
     "output_type": "stream",
     "text": [
      "Using class name  100\n",
      "Using object name  100\n",
      "After Updation using class name  200\n",
      "After Updation using object name  200\n",
      "Enter some value 200\n",
      "Value = 200\n",
      "Value = 300\n"
     ]
    }
   ],
   "source": [
    "class Myclass:\n",
    " cl_var=100         # cl_var is class variable.\n",
    " def myfun(self,obx):\n",
    "        self.obx = obx   \n",
    " def display(self):\n",
    "    print(\"Value =\",self.obx)\n",
    "# Decalartion of object of class Myclass\n",
    "myobj = Myclass()\n",
    "# Accessing class members---using dot operator\n",
    "print('Using class name ',Myclass.cl_var)\n",
    "print('Using object name ',myobj.cl_var)\n",
    "Myclass.cl_var = 200\n",
    "print('After Updation using class name ',Myclass.cl_var)\n",
    "print('After Updation using object name ',myobj.cl_var)\n",
    "val = int(input('Enter some value '))\n",
    "# Calling instance method using object myobj\n",
    "myobj.myfun(val)\n",
    "myobj.display()\n",
    "# Calling instance method using class name\n",
    "Myclass.myfun(myobj,val+100)\n",
    "Myclass.display(myobj)\n"
   ]
  },
  {
   "cell_type": "markdown",
   "id": "d9700acf",
   "metadata": {},
   "source": [
    "#### 2. Write a program to implement default constructor, parameterized constructor, and destructor.\n",
    "Constructor--It is the instance method used to construct the members of the object.\n",
    "Special method or magic method $__init__()$ is called the constructor method.\n"
   ]
  },
  {
   "cell_type": "code",
   "execution_count": 6,
   "id": "de1c3c79",
   "metadata": {},
   "outputs": [
    {
     "name": "stdout",
     "output_type": "stream",
     "text": [
      "Inside default consturtor.\n"
     ]
    }
   ],
   "source": [
    "# Example 1: Default constructor.\n",
    "# It is the constructor without any argument other than self.\n",
    "class Myclass:\n",
    "    def __init__(self):\n",
    "        print('Inside default consturtor.')\n",
    "myobj = Myclass()"
   ]
  },
  {
   "cell_type": "code",
   "execution_count": 9,
   "id": "f66ac31f",
   "metadata": {},
   "outputs": [
    {
     "name": "stdout",
     "output_type": "stream",
     "text": [
      "Enter roll number 101\n",
      "Enter Name Rahul\n",
      "Inside Parameterized consturtor.\n",
      "Roll Number = 101\n",
      "Student Name = Rahul\n"
     ]
    }
   ],
   "source": [
    "# Example 2: Parameterized constructor.\n",
    "# It is the constructor with arguments other than self.\n",
    "class Student:\n",
    " def __init__(self,rollno,name):\n",
    "    print('Inside Parameterized consturtor.')\n",
    "    self.rollno = rollno\n",
    "    self.name = name\n",
    "    \n",
    " def displayStudent(self):\n",
    "    print('Roll Number =',self.rollno)\n",
    "    print('Student Name =',self.name)\n",
    "r = int(input('Enter roll number '))\n",
    "n = input('Enter Name ')\n",
    "s1 = Student(r,n)\n",
    "s1.displayStudent()"
   ]
  },
  {
   "cell_type": "code",
   "execution_count": 10,
   "id": "de20d06f",
   "metadata": {},
   "outputs": [
    {
     "name": "stdout",
     "output_type": "stream",
     "text": [
      "Inside default consturtor.\n"
     ]
    }
   ],
   "source": [
    "# Example 3: Destructor.\n",
    "class Myclass:\n",
    " def __init__(self):\n",
    "    print('Inside default consturtor.')\n",
    " def __del__(self):print('Destructing object.')\n",
    "myobj = Myclass()"
   ]
  },
  {
   "cell_type": "markdown",
   "id": "0840f98e",
   "metadata": {},
   "source": [
    "#### 3. Create a Python class named Rectangle constructed by a length and width. \n",
    "a) Create a method called area which will compute the area of a\n",
    "rectangle."
   ]
  },
  {
   "cell_type": "code",
   "execution_count": 11,
   "id": "4674d487",
   "metadata": {},
   "outputs": [
    {
     "name": "stdout",
     "output_type": "stream",
     "text": [
      "Enter length 6\n",
      "Enter width 3\n",
      "Area =  18\n"
     ]
    }
   ],
   "source": [
    "class Rectangle:\n",
    " def __init__(self,l,w):\n",
    "     self.length=l\n",
    "     self.width=w\n",
    " def area(self):\n",
    "     return self.length*self.width\n",
    "l = int(input('Enter length '))\n",
    "w = int(input('Enter width '))\n",
    "rect = Rectangle(l,w)\n",
    "print('Area = ',rect.area())"
   ]
  },
  {
   "cell_type": "markdown",
   "id": "28102d8b",
   "metadata": {},
   "source": [
    "#### 4. Create a class called Numbers, which has a single class attribute called MULTIPLIER, and a constructor which takes the parameters x and y\n",
    "(these should all be numbers). \n",
    " a) Write an instance method called add which returns the sum of the\n",
    "attributes x and y. \n",
    " b) Write a class method called multiply, which takes a single number\n",
    "parameter a and returns the product of a and MULTIPLIER. \n",
    " c) Write a static method called subtract, which takes two number\n",
    "parameters, b and c, and returns b - c. \n",
    " d) Write a method called value which returns a tuple containing the\n",
    "values of x and y."
   ]
  },
  {
   "cell_type": "code",
   "execution_count": 12,
   "id": "a0d14d9a",
   "metadata": {},
   "outputs": [
    {
     "name": "stdout",
     "output_type": "stream",
     "text": [
      "Enter multiplier 100\n",
      "Enter first parameter 5\n",
      "Enter second parameter 2\n"
     ]
    },
    {
     "ename": "TypeError",
     "evalue": "Numbers() takes no arguments",
     "output_type": "error",
     "traceback": [
      "\u001b[1;31m---------------------------------------------------------------------------\u001b[0m",
      "\u001b[1;31mTypeError\u001b[0m                                 Traceback (most recent call last)",
      "Cell \u001b[1;32mIn[12], line 22\u001b[0m\n\u001b[0;32m     20\u001b[0m f1 \u001b[38;5;241m=\u001b[39m \u001b[38;5;28mint\u001b[39m(\u001b[38;5;28minput\u001b[39m(\u001b[38;5;124m\"\u001b[39m\u001b[38;5;124mEnter first parameter \u001b[39m\u001b[38;5;124m\"\u001b[39m))\n\u001b[0;32m     21\u001b[0m f2 \u001b[38;5;241m=\u001b[39m \u001b[38;5;28mint\u001b[39m(\u001b[38;5;28minput\u001b[39m(\u001b[38;5;124m\"\u001b[39m\u001b[38;5;124mEnter second parameter \u001b[39m\u001b[38;5;124m\"\u001b[39m))\n\u001b[1;32m---> 22\u001b[0m N \u001b[38;5;241m=\u001b[39m \u001b[43mNumbers\u001b[49m\u001b[43m(\u001b[49m\u001b[43mf1\u001b[49m\u001b[43m,\u001b[49m\u001b[43mf2\u001b[49m\u001b[43m)\u001b[49m\n\u001b[0;32m     23\u001b[0m \u001b[38;5;28mprint\u001b[39m(\u001b[38;5;124m\"\u001b[39m\u001b[38;5;124mSUM :\u001b[39m\u001b[38;5;124m\"\u001b[39m,N\u001b[38;5;241m.\u001b[39madd()) \u001b[38;5;66;03m# Numbers.add(N)\u001b[39;00m\n\u001b[0;32m     24\u001b[0m a \u001b[38;5;241m=\u001b[39m \u001b[38;5;28mint\u001b[39m(\u001b[38;5;28minput\u001b[39m(\u001b[38;5;124m\"\u001b[39m\u001b[38;5;124mEnter any number \u001b[39m\u001b[38;5;124m\"\u001b[39m))\n",
      "\u001b[1;31mTypeError\u001b[0m: Numbers() takes no arguments"
     ]
    }
   ],
   "source": [
    " # Program 4.\n",
    "class Numbers:\n",
    "    MULTIPLIER = 10 # class attributes\n",
    " def __init__(self,x,y):\n",
    "     self.x = x\n",
    "     self.y = y\n",
    " def add(self):\n",
    "     return self.x + self.y\n",
    " @classmethod\n",
    " def multiply(cls,a):\n",
    "     return a*cls.MULTIPLIER\n",
    " @staticmethod\n",
    " def subtract(b,c):\n",
    "     return b-c\n",
    " def value(self):\n",
    "     return self.x,self.y\n",
    "\n",
    "m = int(input(\"Enter multiplier \"))\n",
    "Numbers.MULTIPLIER = m\n",
    "f1 = int(input(\"Enter first parameter \"))\n",
    "f2 = int(input(\"Enter second parameter \"))\n",
    "N = Numbers(f1,f2)\n",
    "print(\"SUM :\",N.add()) # Numbers.add(N)\n",
    "a = int(input(\"Enter any number \"))\n",
    "print(\"Product :\",Numbers.multiply(a))\n",
    "b = int(input(\"Enter value of b \"))\n",
    "c = int(input(\"Enter value of c \"))\n",
    "print(\"b-c =\",Numbers.subtract(b,c))\n",
    "val = N.value()\n",
    "print(\"Pair :\",val)"
   ]
  },
  {
   "cell_type": "markdown",
   "id": "8357badb",
   "metadata": {},
   "source": [
    "#### 5. Create a class named as Student to store the rollno, name and marks in three subjects. Use List to store the marks. \n",
    "a) Write an instance method called compute() to compute total marks and\n",
    "average marks of a student. \n",
    "b) Write a method called display() to display student information"
   ]
  },
  {
   "cell_type": "code",
   "execution_count": 13,
   "id": "de6ed9df",
   "metadata": {},
   "outputs": [
    {
     "name": "stdout",
     "output_type": "stream",
     "text": [
      "Enter roll Number 100\n",
      "Enter Name Abhijit\n",
      "Enter marks of three subjects 90\n",
      "Total Marks = 90\n",
      "Average Marks = 90.0\n",
      "Roll Number = 100\n",
      "Name = Abhijit\n",
      "Marks = [90]\n"
     ]
    }
   ],
   "source": [
    "class Student:\n",
    " def __init__(self,rollno,name):\n",
    "     self.rollno=rollno\n",
    "     self.name=name\n",
    "     self.marks=[]\n",
    " def setmarks(self):\n",
    "     m = input('Enter marks of three subjects ').split() #'20 30 .....['20','30']\n",
    "     marks = [int(i) for i in m]\n",
    "     self.marks = marks\n",
    " def compute(self):\n",
    "     sum1 = 0\n",
    "     for m1 in self.marks: # self.marks=[20,30]\n",
    "         sum1 = sum1 + m1\n",
    "     print('Total Marks =',sum1)\n",
    "     print('Average Marks =',sum1/len(self.marks))\n",
    " def display(self):\n",
    "     print('Roll Number =',self.rollno)\n",
    "     print('Name =',self.name)\n",
    "     print('Marks =',self.marks)\n",
    "r = int(input('Enter roll Number '))\n",
    "n = input('Enter Name ')\n",
    "s1 = Student(r,n)\n",
    "s1.setmarks()\n",
    "s1.compute()\n",
    "s1.display()"
   ]
  },
  {
   "cell_type": "markdown",
   "id": "64adeb26",
   "metadata": {},
   "source": [
    "#### 6. Create a class Employee that keeps a track of the number of employees in an organization and also stores their name, designation and salary details. \n",
    " a) Write a method called getdata to take input (name, designation,\n",
    "salary) from user. \n",
    " b) Write a method called average to find average salary of all the\n",
    "employees in the organization. \n",
    " c) Write a method called display to print all the information of an\n",
    "employee."
   ]
  },
  {
   "cell_type": "code",
   "execution_count": 15,
   "id": "8a0c9487",
   "metadata": {},
   "outputs": [
    {
     "name": "stdout",
     "output_type": "stream",
     "text": [
      "Enter number of employees 3\n",
      "Enter name ABC\n",
      "Enter Designation AP\n",
      "Enter salary 100000\n",
      "Enter name amit\n",
      "Enter Designation AP\n",
      "Enter salary 200000\n",
      "Enter name Nupur\n",
      "Enter Designation Student\n",
      "Enter salary 10000\n",
      "Name : ABC\n",
      "Designation : AP\n",
      "Salary : 100000\n",
      "Number of employees : 3\n",
      "Name : amit\n",
      "Designation : AP\n",
      "Salary : 200000\n",
      "Number of employees : 3\n",
      "Name : Nupur\n",
      "Designation : Student\n",
      "Salary : 10000\n",
      "Number of employees : 3\n",
      "Average Salary : 33333.333333333336\n"
     ]
    }
   ],
   "source": [
    "class Employee:\n",
    " count = 0\n",
    " def __init__(self):\n",
    "     Employee.count = Employee.count + 1\n",
    " def getdata(self):\n",
    "     name = input(\"Enter name \")\n",
    "     designation = input(\"Enter Designation \")\n",
    "     salary = int(input(\"Enter salary \"))\n",
    "     self.name = name\n",
    "     self.designation = designation\n",
    "     self.salary = salary\n",
    " def display(self):\n",
    "     print(\"Name :\",self.name)\n",
    "     print(\"Designation :\",self.designation)\n",
    "     print(\"Salary :\",self.salary)\n",
    "     print(\"Number of employees :\",Employee.count)\n",
    " @staticmethod\n",
    " def average(mylist):\n",
    "     sum1 = 0\n",
    "     for e in mylist:\n",
    "         sum1 = sum1 + e.salary\n",
    "         return sum1/Employee.count \n",
    "Emplist = []\n",
    "num = int(input(\"Enter number of employees \")) #num=3\n",
    "for i in range(num):\n",
    "    E = Employee()\n",
    "    Emplist.append(E) # List of objects\n",
    "    E.getdata()\n",
    "for e in Emplist:\n",
    " e.display()\n",
    "print(\"Average Salary :\",Employee.average(Emplist))#i=0,1,"
   ]
  },
  {
   "cell_type": "markdown",
   "id": "a2e7ab65",
   "metadata": {},
   "source": [
    "#### 7. Create a Python class named Circle constructed by a radius. Use a class variable to define the value of constant PI. \n",
    "a) Write two methods to be named as area and circumference to compute the\n",
    "area and the circumference of a circle respectively by using class\n",
    "variable PI. \n",
    "c) Write a method called display to print area and perimeter.\n"
   ]
  },
  {
   "cell_type": "code",
   "execution_count": 18,
   "id": "0fec07ec",
   "metadata": {},
   "outputs": [
    {
     "name": "stdout",
     "output_type": "stream",
     "text": [
      "Enter radius of circle 5\n",
      "Area = 78.54\n",
      "Perimeter = 31.42\n"
     ]
    }
   ],
   "source": [
    "class Circle:\n",
    "    __PI = 3.1415\n",
    "    def __init__(self,radius):\n",
    "        self.radius = radius\n",
    "    def area(self):\n",
    "        return Circle.__PI*self.radius*self.radius\n",
    "    def circumference(self):\n",
    "        return 2*Circle.__PI*self.radius\n",
    "    def display(self):\n",
    "        print(\"Area =\",round(self.area(),2))\n",
    "        print(\"Perimeter =\",round(self.circumference(),2))\n",
    "r = float(input(\"Enter radius of circle \"))\n",
    "C = Circle(r)\n",
    "C.display()"
   ]
  },
  {
   "cell_type": "markdown",
   "id": "1964cdc0",
   "metadata": {},
   "source": [
    "#### 8. Create a class called String that stores a string and all its status details such as number of uppercase letters, lowercase letters, vowels ,consonants and space in instance variables.\n",
    "\n",
    "a) Write methods named as count_uppercase, count_lowercase, count_vowels,\n",
    "count_consonants and count_space to count corresponding values. \n",
    "b) Write a method called display to print string along with all the\n",
    "values computed by methods in (a)."
   ]
  },
  {
   "cell_type": "code",
   "execution_count": 19,
   "id": "9210cc39",
   "metadata": {},
   "outputs": [
    {
     "name": "stdout",
     "output_type": "stream",
     "text": [
      "Enter message Hi data science\n",
      "Message\n",
      "Hi data science\n",
      "Uppercase letters : 1\n",
      "Lowercase letters : 12\n",
      "Vowels : 6\n",
      "Consonants : 7\n",
      "Spaces : 2\n"
     ]
    }
   ],
   "source": [
    "class String:\n",
    "    def __init__(self):\n",
    "        self.uppercase = 0\n",
    "        self.lowercase = 0\n",
    "        self.vowels = 0\n",
    "        self.consonants = 0\n",
    "        self.space = 0\n",
    "        msg = input(\"Enter message \")\n",
    "        self.msg = msg\n",
    "    def count_uppercase(self):\n",
    "        for letter in self.msg: # msg = 'Hello Students'\n",
    "            if letter.isupper():\n",
    "                self.uppercase += 1 #self.uppercase = self.uppercase + 1\n",
    "    def count_lowercase(self):\n",
    "        for letter in self.msg:\n",
    "            if letter.islower():\n",
    "                self.lowercase += 1\n",
    "    def count_vowels(self):\n",
    "        for letter in self.msg: # msg='Hello Students'\n",
    "            if letter in 'aeiouAEIOU':\n",
    "                self.vowels += 1\n",
    "    def count_consonants(self):\n",
    "        for letter in self.msg: # msg='Hello @ students'\n",
    "            if 'a'<=letter<='z' or 'A'<=letter<='Z':\n",
    "                if letter not in 'aeiouAEIOU':\n",
    "                    self.consonants += 1\n",
    "    def count_space(self):\n",
    "        for letter in self.msg:\n",
    "            if letter == ' ':\n",
    "                self.space += 1\n",
    "    def display(self):\n",
    "        print(\"Message\")\n",
    "        print(self.msg)\n",
    "        print(\"Uppercase letters :\",self.uppercase)\n",
    "        print(\"Lowercase letters :\",self.lowercase)\n",
    "        print(\"Vowels :\",self.vowels)\n",
    "        print(\"Consonants :\",self.consonants)\n",
    "        print(\"Spaces :\",self.space)\n",
    "S = String()\n",
    "S.count_uppercase()\n",
    "S.count_lowercase()\n",
    "S.count_vowels()\n",
    "S.count_consonants()\n",
    "S.count_space()\n",
    "S.display()"
   ]
  },
  {
   "cell_type": "markdown",
   "id": "48c19cb1",
   "metadata": {},
   "source": [
    "#### 9. Write a program that has a class called Fraction with attributes numerator and denominator. \n",
    "a) Write a method called getdata to enter the values of the attributes. \n",
    "b) Write a method show to print the fraction in simplified form."
   ]
  },
  {
   "cell_type": "code",
   "execution_count": 20,
   "id": "d3398772",
   "metadata": {},
   "outputs": [
    {
     "name": "stdout",
     "output_type": "stream",
     "text": [
      "Enter Numerator 6\n",
      "Enter Denominator 12\n",
      "1 / 2\n"
     ]
    }
   ],
   "source": [
    "def gcd(a,b):\n",
    "    if b == 0:\n",
    "        return a\n",
    "    else:\n",
    "        return gcd(b,a%b)\n",
    "class Fraction:\n",
    "    def __init__(self,N=None,D=None):\n",
    "        self.N = N\n",
    "        self.D = D\n",
    "    def getdata(self):\n",
    "        N = int(input(\"Enter Numerator \"))\n",
    "        D = int(input(\"Enter Denominator \"))\n",
    "        self.N = N\n",
    "        self.D = D\n",
    "    def show(self):\n",
    "        g = gcd(self.N,self.D)\n",
    "        self.N = self.N//g\n",
    "        self.D = self.D//g\n",
    "        print(self.N,\"/\",self.D)\n",
    "F1 = Fraction()\n",
    "F1.getdata()\n",
    "F1.show()"
   ]
  },
  {
   "cell_type": "markdown",
   "id": "f06cbbe7",
   "metadata": {},
   "source": [
    "#### 10. Write a program that has a class Numbers with a list as an instance variable. \n",
    "a) Write a method called insert_element that takes values from user. \n",
    "b) Write a class method called find_max to find and print largest value\n",
    "in the list.\n"
   ]
  },
  {
   "cell_type": "code",
   "execution_count": 21,
   "id": "ab5b788f",
   "metadata": {},
   "outputs": [
    {
     "name": "stdout",
     "output_type": "stream",
     "text": [
      "Enter value 5\n",
      "Enter value 6\n",
      "Enter value 8\n",
      "Enter value 2\n",
      "[5, 6, 8, 2]\n",
      "Maximum Value = 8\n"
     ]
    }
   ],
   "source": [
    "class Numbers:\n",
    "    def __init__(self):\n",
    "        self.list1 = []\n",
    "    def insert_element(self):\n",
    "        val = int(input('Enter value '))\n",
    "        self.list1.append(val)\n",
    "    def find_max(self):\n",
    "        if len(self.list1)>0:\n",
    "            max1 = self.list1[0]\n",
    "            for i in range(1,len(self.list1)):\n",
    "                if max1<self.list1[i]:\n",
    "                    max1 = self.list1[i]\n",
    "            return max1\n",
    "        else:\n",
    "            return 'Empty List!'\n",
    "num = Numbers()\n",
    "num.insert_element()\n",
    "num.insert_element()\n",
    "num.insert_element()\n",
    "num.insert_element()\n",
    "print(num.list1)\n",
    "print('Maximum Value =',num.find_max())"
   ]
  },
  {
   "cell_type": "markdown",
   "id": "75004482",
   "metadata": {},
   "source": [
    "#### 11. Write a program that has a class Point with attributes x and y. \n",
    "a) Write a method called midpoint that returns a midpoint of a line\n",
    "joining two points. \n",
    " b) Write a method called length that returns the length of a line\n",
    "joining two points.\n"
   ]
  },
  {
   "cell_type": "code",
   "execution_count": 22,
   "id": "f0ab9d06",
   "metadata": {},
   "outputs": [
    {
     "name": "stdout",
     "output_type": "stream",
     "text": [
      "Enter coordinates of first point \n",
      "Enter x-coordinate 4\n",
      "Enter y-coordinate 8\n",
      "Enter coordinates of second point \n",
      "Enter x-coordinate 5\n",
      "Enter y-coordinate 10\n",
      "Mid point = (4.5, 9.0)\n",
      "Distance = 2.23606797749979\n"
     ]
    }
   ],
   "source": [
    "class Point:\n",
    "    def __init__(self,x=0,y=0):\n",
    "        self.x = x\n",
    "        self.y = y\n",
    "    def midpoint(self,p):\n",
    "        temp=Point(0,0)\n",
    "        temp.x = (self.x + p.x)/2\n",
    "        temp.y = (self.y + p.y)/2\n",
    "        return temp.x,temp.y\n",
    "    def length(self,p):\n",
    "        d = ((p.x-self.x)**2+(p.y-self.y)**2)**0.5\n",
    "        return d\n",
    "print('Enter coordinates of first point ')\n",
    "x1 = int(input('Enter x-coordinate '))\n",
    "y1 = int(input('Enter y-coordinate '))\n",
    "p1 = Point(x1,y1)\n",
    "print('Enter coordinates of second point ')\n",
    "x2 = int(input('Enter x-coordinate '))\n",
    "y2 = int(input('Enter y-coordinate '))\n",
    "p2 = Point(x2,y2)\n",
    "print('Mid point =',p1.midpoint(p2))\n",
    "print('Distance =',p1.length(p2))"
   ]
  },
  {
   "cell_type": "markdown",
   "id": "e758c4c9",
   "metadata": {},
   "source": [
    "#### 12. Create a class called Complex. Write a menu driven program to read,display, add and subtract two complex numbers by creating corresponding instance methods. \n"
   ]
  },
  {
   "cell_type": "code",
   "execution_count": null,
   "id": "7bb579b0",
   "metadata": {},
   "outputs": [],
   "source": [
    "class Complex:\n",
    "    def __init__(self,r,i):\n",
    "        self.real = r\n",
    "        self.imag = i\n",
    "    def read(self,r,i):\n",
    "        self.real=r\n",
    "        self.imag=i\n",
    "    def display(self):\n",
    "        if self.imag<=0:\n",
    "            print(str(self.real)+str(self.imag)+'j')\n",
    "        else:\n",
    "            print(str(self.real)+'+'+str(self.imag)+'j')\n",
    "    def add(self,c):\n",
    "        temp = Complex(0,0)\n",
    "        temp.real = self.real+c.real\n",
    "        temp.imag = self.imag+c.imag\n",
    "        return temp\n",
    "    def subtract(self,c):\n",
    "        temp = Complex(0,0)\n",
    "        temp.real = self.real-c.real\n",
    "        temp.imag = self.imag-c.imag\n",
    "        return temp\n",
    "    while(True):\n",
    "        print('Enter your Choice:')\n",
    "        print('1. Read')\n",
    "        print('2. Display')\n",
    "        print('3. Add')\n",
    "        print('4. Subtract')\n",
    "    ch=input()\n",
    "    if ch=='1':\n",
    "        print('Enter first complex number ')\n",
    "        r1 = int(input('Enter real part '))\n",
    "        i1 = int(input('Enter imaginary part '))\n",
    "        c1 = Complex(r1,i1)\n",
    " c1.display()\n",
    " print('Enter second complex number ')\n",
    " r2 = int(input('Enter real part '))\n",
    " i2 = int(input('Enter imaginary part '))\n",
    " c2 = Complex(r2,i2)\n",
    " c2.display()\n",
    " elif ch=='2':\n",
    " c1.display()\n",
    " c2.display()\n",
    " elif ch=='3':\n",
    " c3 = c1.add(c2)\n",
    " c3.display()\n",
    " elif ch=='4':\n",
    " c4 = c1.subtract(c2)\n",
    " c4.display()\n",
    " else:\n",
    " print('INVALID CHOICE!')\n",
    " print('Do want to continue (y/Y) ')\n",
    " ch1=input()\n",
    " if ch1!='y' and ch1!='Y':\n",
    "        break\n"
   ]
  },
  {
   "cell_type": "markdown",
   "id": "4c671472",
   "metadata": {},
   "source": [
    "#### 13. Write a Program to illustrate the use of $__str__()$, $__repr__()$,\n",
    "and $__new__()$ methods."
   ]
  },
  {
   "cell_type": "code",
   "execution_count": 24,
   "id": "f6e5bbe4",
   "metadata": {},
   "outputs": [
    {
     "name": "stdout",
     "output_type": "stream",
     "text": [
      "__new__ magic method is called\n",
      "__init__ magic method is called\n",
      "Destructing object.\n",
      "Python\n"
     ]
    }
   ],
   "source": [
    "# new magic method\n",
    "class Myclass:\n",
    "    def __new__(cls):\n",
    "        print (\"__new__ magic method is called\")\n",
    "        inst = object.__new__(cls)\n",
    "        return inst\n",
    "    def __init__(self):\n",
    "        print (\"__init__ magic method is called\")\n",
    "        self.name='Python'\n",
    "myobj = Myclass()\n",
    "print(myobj.name)"
   ]
  },
  {
   "cell_type": "code",
   "execution_count": 26,
   "id": "c24f1df8",
   "metadata": {},
   "outputs": [
    {
     "name": "stdout",
     "output_type": "stream",
     "text": [
      "Name = Anu, Salary=₹60000\n",
      "Hello = Anu\n"
     ]
    }
   ],
   "source": [
    "class Employee:\n",
    "    def __init__(self):\n",
    "        self.name='Anu'\n",
    "        self.salary=60000\n",
    "    def __str__(self):\n",
    "        return 'Name = ' + self.name + ', Salary=₹'+str(self.salary)\n",
    "    def __repr__(self):\n",
    "        return 'Hello = ' + self.name\n",
    "emp = Employee()\n",
    "print(emp)\n",
    "print(repr(emp))"
   ]
  },
  {
   "cell_type": "markdown",
   "id": "6dbb4aa2",
   "metadata": {},
   "source": [
    "#### 14. Create a BankAccount class. Your class should support the following\n",
    "methods: \n",
    "a) $__init__(self, account_no)$ \n",
    "b) deposit (self, amount) \n",
    "c) withdraw (self, amount) \n",
    "d) get_balance (self)"
   ]
  },
  {
   "cell_type": "code",
   "execution_count": 27,
   "id": "523e8137",
   "metadata": {},
   "outputs": [
    {
     "name": "stdout",
     "output_type": "stream",
     "text": [
      "Enter Account Number 100000\n",
      "Account Number : 100000\n",
      "Balance Amount : 0\n",
      "Enter amount to be deposited 50000\n",
      "Account Number : 100000\n",
      "Balance Amount : 50000\n",
      "Enter amount to be withrawn 60000\n",
      "Alert! Insuffcient balance\n",
      "Account Number : 100000\n",
      "Balance Amount : 50000\n"
     ]
    }
   ],
   "source": [
    "class BankAccount:\n",
    "    def __init__(self,account_no):\n",
    "        self.account_no = account_no\n",
    "        self.balance = 0\n",
    "    def deposit(self,amount):\n",
    "        self.balance = self.balance + amount\n",
    "    def withdraw(self,amount):\n",
    "        if amount > self.balance:\n",
    "            print(\"Alert! Insuffcient balance\")\n",
    "        else:\n",
    "            self.balance = self.balance - amount\n",
    "    def get_balance(self):\n",
    "        print(\"Account Number :\",self.account_no)\n",
    "        print(\"Balance Amount :\",self.balance)\n",
    "a = int(input('Enter Account Number '))\n",
    "c1 = BankAccount(a)\n",
    "c1.get_balance()\n",
    "amount = int(input('Enter amount to be deposited '))\n",
    "c1.deposit(amount)\n",
    "c1.get_balance()\n",
    "amount = int(input('Enter amount to be withrawn '))\n",
    "c1.withdraw(amount)\n",
    "c1.get_balance()"
   ]
  },
  {
   "cell_type": "markdown",
   "id": "105f018a",
   "metadata": {},
   "source": [
    "#### 15. Write a program to illustrate the use of following built-in methods: \n",
    "a) hasattr(obj,attr) \n",
    "b) getattr(object, attribute_name [, default]) \n",
    "c) setattr(object, name, value) \n",
    "d) delattr(class_name, name)\n"
   ]
  },
  {
   "cell_type": "code",
   "execution_count": 28,
   "id": "58d5be6e",
   "metadata": {},
   "outputs": [
    {
     "name": "stdout",
     "output_type": "stream",
     "text": [
      "Value is 100\n",
      "Getting Attribute 100\n",
      "Checking for attribute True\n",
      "After setting value 200\n",
      "After setting new attribute 500\n"
     ]
    },
    {
     "ename": "AttributeError",
     "evalue": "'ABC' object has no attribute 'var'",
     "output_type": "error",
     "traceback": [
      "\u001b[1;31m---------------------------------------------------------------------------\u001b[0m",
      "\u001b[1;31mAttributeError\u001b[0m                            Traceback (most recent call last)",
      "Cell \u001b[1;32mIn[28], line 15\u001b[0m\n\u001b[0;32m     13\u001b[0m \u001b[38;5;28mprint\u001b[39m(\u001b[38;5;124m\"\u001b[39m\u001b[38;5;124mAfter setting new attribute\u001b[39m\u001b[38;5;124m\"\u001b[39m,obj\u001b[38;5;241m.\u001b[39mnvar)\n\u001b[0;32m     14\u001b[0m \u001b[38;5;28mdelattr\u001b[39m(obj,\u001b[38;5;124m'\u001b[39m\u001b[38;5;124mvar\u001b[39m\u001b[38;5;124m'\u001b[39m)\n\u001b[1;32m---> 15\u001b[0m \u001b[38;5;28mprint\u001b[39m(\u001b[38;5;124m\"\u001b[39m\u001b[38;5;124mAfter deleting attribute\u001b[39m\u001b[38;5;124m\"\u001b[39m,\u001b[43mobj\u001b[49m\u001b[38;5;241;43m.\u001b[39;49m\u001b[43mvar\u001b[49m)\n",
      "\u001b[1;31mAttributeError\u001b[0m: 'ABC' object has no attribute 'var'"
     ]
    }
   ],
   "source": [
    "class ABC:\n",
    "    def __init__(self,var):\n",
    "        self.var = var\n",
    "    def __str__(self):\n",
    "        return 'Value is ' + str(self.var)\n",
    "obj = ABC(100)\n",
    "print(obj)\n",
    "print(\"Getting Attribute\",getattr(obj,'var'))\n",
    "print(\"Checking for attribute\",hasattr(obj,'var'))\n",
    "setattr(obj,'var',200)\n",
    "print(\"After setting value\",obj.var)\n",
    "setattr(obj,'nvar',500)\n",
    "print(\"After setting new attribute\",obj.nvar)\n",
    "delattr(obj,'var')\n",
    "print(\"After deleting attribute\",obj.var)"
   ]
  },
  {
   "cell_type": "markdown",
   "id": "5954df18",
   "metadata": {},
   "source": [
    "#### 16.Write a program to create class Employee. Display the personal information and salary details of 5 employees using single inheritance. \n"
   ]
  },
  {
   "cell_type": "code",
   "execution_count": 3,
   "id": "8ebf8910",
   "metadata": {},
   "outputs": [
    {
     "name": "stdout",
     "output_type": "stream",
     "text": [
      "Employee 1:\n",
      "Name: Priya\n",
      "Age: 17\n",
      "Address: kanpur\n",
      "Employee ID: E1\n",
      "Salary: 40000\n",
      "\n",
      "Employee 2:\n",
      "Name: Pooja\n",
      "Age: 16\n",
      "Address: Dun\n",
      "Employee ID: E2\n",
      "Salary: 50000\n",
      "\n",
      "Employee 3:\n",
      "Name: Nitish\n",
      "Age: 15\n",
      "Address: Greater noida\n",
      "Employee ID: E3\n",
      "Salary: 100000\n",
      "\n",
      "Employee 4:\n",
      "Name: Suraj\n",
      "Age: 17\n",
      "Address: Bihar\n",
      "Employee ID: E4\n",
      "Salary: 45000\n",
      "\n",
      "Employee 5:\n",
      "Name: Prince\n",
      "Age: 18\n",
      "Address: Delhi\n",
      "Employee ID: E5\n",
      "Salary: 50000\n"
     ]
    }
   ],
   "source": [
    "class Employee:\n",
    "    def __init__(self, name, age, address, salary):\n",
    "        self.name = name\n",
    "        self.age = age\n",
    "        self.address = address\n",
    "        self.salary = salary\n",
    "\n",
    "    def display_personal_info(self):\n",
    "        print(\"Name:\", self.name)\n",
    "        print(\"Age:\", self.age)\n",
    "        print(\"Address:\", self.address)\n",
    "\n",
    "    def display_salary_details(self):\n",
    "        print(\"Salary:\", self.salary)\n",
    "        \n",
    "class EmployeeDetails(Employee):\n",
    "    def __init__(self, name, age, address, salary, employee_id):\n",
    "        super().__init__(name, age, address, salary)\n",
    "        self.employee_id = employee_id\n",
    "\n",
    "    def display_employee_info(self):\n",
    "        self.display_personal_info()\n",
    "        print(\"Employee ID:\", self.employee_id)\n",
    "        self.display_salary_details()\n",
    "\n",
    "# Create instances of EmployeeDetails\n",
    "emp1 = EmployeeDetails(\"Priya\", 17, \"kanpur\", 40000, \"E1\")\n",
    "emp2 = EmployeeDetails(\"Pooja\", 16, \"Dun\", 50000, \"E2\")\n",
    "emp3 = EmployeeDetails(\"Nitish\", 15, \"Greater noida\", 100000, \"E3\")\n",
    "emp4 = EmployeeDetails(\"Suraj\", 17, \"Bihar\", 45000, \"E4\")\n",
    "emp5 = EmployeeDetails(\"Prince\", 18, \"Delhi\", 50000, \"E5\")\n",
    "\n",
    "# Display employee information\n",
    "print(\"Employee 1:\")\n",
    "emp1.display_employee_info()\n",
    "print()\n",
    "print(\"Employee 2:\")\n",
    "emp2.display_employee_info()\n",
    "print()\n",
    "print(\"Employee 3:\")\n",
    "emp3.display_employee_info()\n",
    "print()\n",
    "print(\"Employee 4:\")\n",
    "emp4.display_employee_info()\n",
    "print()\n",
    "print(\"Employee 5:\")\n",
    "emp5.display_employee_info()"
   ]
  },
  {
   "cell_type": "markdown",
   "id": "25dce2ba",
   "metadata": {},
   "source": [
    "#### 17. WAP that extends the class Employee. Derive two classes Manager and Team Leader from Employee class. Display all the details of the employee working under a particular Manager and Team Leader. "
   ]
  },
  {
   "cell_type": "code",
   "execution_count": 4,
   "id": "142b0964",
   "metadata": {},
   "outputs": [
    {
     "name": "stdout",
     "output_type": "stream",
     "text": [
      "Manager 1 Details:\n",
      "Employee Name: Supriya\n",
      "Employee ID: M1\n",
      "Employees working under Supriya:\n",
      "Employee Name: Aditya\n",
      "Employee ID: TL1\n",
      "No employees working under Aditya\n",
      "\n",
      "Employee Name: Gauri\n",
      "Employee ID: TL2\n",
      "No employees working under Gauri\n",
      "\n",
      "\n",
      "Manager 2 Details:\n",
      "Employee Name: Mahi\n",
      "Employee ID: M2\n",
      "Employees working under Mahi:\n",
      "Employee Name: Aditya\n",
      "Employee ID: TL1\n",
      "No employees working under Aditya\n",
      "\n",
      "\n"
     ]
    }
   ],
   "source": [
    "class Employee:\n",
    "    def __init__(self, name, emp_id):\n",
    "        self.name = name\n",
    "        self.emp_id = emp_id\n",
    "        self.employees = []\n",
    "\n",
    "    def add_employee(self, employee):\n",
    "        self.employees.append(employee)\n",
    "\n",
    "    def display_details(self):\n",
    "        print(\"Employee Name:\", self.name)\n",
    "        print(\"Employee ID:\", self.emp_id)\n",
    "\n",
    "        if self.employees:\n",
    "            print(\"Employees working under\", self.name + \":\")\n",
    "\n",
    "            for employee in self.employees:\n",
    "                employee.display_details()\n",
    "                print()\n",
    "        else:\n",
    "            print(\"No employees working under\", self.name)\n",
    "            \n",
    "class Manager(Employee):\n",
    "    def __init__(self, name, emp_id):\n",
    "        super().__init__(name, emp_id)#used super() function\n",
    "\n",
    "class TeamLeader(Employee):\n",
    "    def __init__(self, name, emp_id):\n",
    "        super().__init__(name, emp_id)\n",
    "\n",
    "# Create instances of Manager and TeamLeader\n",
    "manager1 = Manager(\"Supriya\", \"M1\")\n",
    "manager2 = Manager(\"Mahi\", \"M2\")\n",
    "team_leader1 = TeamLeader(\"Aditya\", \"TL1\")\n",
    "team_leader2 = TeamLeader(\"Gauri\", \"TL2\")\n",
    "\n",
    "# Add employees under managers and team leaders\n",
    "manager1.add_employee(team_leader1)\n",
    "manager1.add_employee(team_leader2)\n",
    "manager2.add_employee(team_leader1)\n",
    "\n",
    "# Display details\n",
    "print(\"Manager 1 Details:\")\n",
    "manager1.display_details()\n",
    "print()\n",
    "\n",
    "print(\"Manager 2 Details:\")\n",
    "manager2.display_details()\n",
    "print()"
   ]
  },
  {
   "cell_type": "markdown",
   "id": "1433efcd",
   "metadata": {},
   "source": [
    "#### 18. Write a program that has a class Point. Define another class Location which has two objects (Location and destination) of class Point. Also, define a function in Location that prints the reflection on the y-axis"
   ]
  },
  {
   "cell_type": "code",
   "execution_count": 8,
   "id": "c526f5fd",
   "metadata": {},
   "outputs": [
    {
     "name": "stdout",
     "output_type": "stream",
     "text": [
      "Location coordinates: 2 3\n",
      "Destination coordinates: 4 5\n",
      "Reflected location coordinates: -2 3\n"
     ]
    }
   ],
   "source": [
    "class Point:\n",
    "    def __init__(self, x, y):\n",
    "        self.x = x\n",
    "        self.y = y\n",
    "class Location:\n",
    "    def __init__(self, location, destination):\n",
    "        self.location = location\n",
    "        self.destination = destination\n",
    "\n",
    "    def print_reflection(self):\n",
    "        reflected_x = -self.location.x\n",
    "        reflected_y = self.location.y\n",
    "\n",
    "        reflected_point = Point(reflected_x, reflected_y)\n",
    "\n",
    "        print(\"Location coordinates:\", self.location.x, self.location.y)\n",
    "        print(\"Destination coordinates:\", self.destination.x, self.destination.y)\n",
    "        print(\"Reflected location coordinates:\", reflected_point.x, reflected_point.y)\n",
    "\n",
    "# Create instances of the Point class\n",
    "location_point = Point(2, 3)\n",
    "destination_point = Point(4, 5)\n",
    "\n",
    "# Create an instance of the Location class\n",
    "location_obj = Location(location_point, destination_point)\n",
    "\n",
    "# Call the print_reflection function\n",
    "location_obj.print_reflection()\n"
   ]
  },
  {
   "cell_type": "markdown",
   "id": "64bcf865",
   "metadata": {},
   "source": [
    "#### 19. WAP that create a class Student having attribute as name and age and Marks class inheriting Students class with its own attributes marks1, marks2 and marks3 as marks in 3 subjects. Also, define the class Result that inherits the Marks class with its own attribute total. Every class has its own display() method to display the corresponding details. Use __init__() and super() to implement the above classes. \n"
   ]
  },
  {
   "cell_type": "code",
   "execution_count": 9,
   "id": "2e3b3d24",
   "metadata": {},
   "outputs": [
    {
     "name": "stdout",
     "output_type": "stream",
     "text": [
      "Name: Satwik\n",
      "Age: 16\n",
      "Marks in Subject 1: 100\n",
      "Marks in Subject 2: 95\n",
      "Marks in Subject 3: 99\n",
      "Total Marks: 294\n"
     ]
    }
   ],
   "source": [
    "class Student:\n",
    "    def __init__(self, name, age):\n",
    "        self.name = name\n",
    "        self.age = age\n",
    "\n",
    "    def display(self):\n",
    "        print(\"Name:\", self.name)\n",
    "        print(\"Age:\", self.age)\n",
    "        \n",
    "class Marks(Student):\n",
    "    def __init__(self, name, age, marks1, marks2, marks3):\n",
    "        super().__init__(name, age)\n",
    "        self.marks1 = marks1\n",
    "        self.marks2 = marks2\n",
    "        self.marks3 = marks3\n",
    "\n",
    "    def display(self):\n",
    "        super().display()\n",
    "        print(\"Marks in Subject 1:\", self.marks1)\n",
    "        print(\"Marks in Subject 2:\", self.marks2)\n",
    "        print(\"Marks in Subject 3:\", self.marks3)\n",
    "\n",
    "class Result(Marks):\n",
    "    def __init__(self, name, age, marks1, marks2, marks3):\n",
    "        super().__init__(name, age, marks1, marks2, marks3)\n",
    "        self.total = self.marks1 + self.marks2 + self.marks3\n",
    "\n",
    "    def display(self):\n",
    "        super().display()\n",
    "        print(\"Total Marks:\", self.total)\n",
    "        \n",
    "# Create an instance of Result\n",
    "student_result = Result(\"Satwik\",16, 100,95, 99)\n",
    "\n",
    "# Call the display method\n",
    "student_result.display()"
   ]
  },
  {
   "cell_type": "markdown",
   "id": "061193f2",
   "metadata": {},
   "source": [
    "#### 20. Write a program that create a class Distance with members km and metres. Derive classes School and office which store the distance from your house to school and office along with other details. "
   ]
  },
  {
   "cell_type": "code",
   "execution_count": 11,
   "id": "f3af0222",
   "metadata": {},
   "outputs": [
    {
     "name": "stdout",
     "output_type": "stream",
     "text": [
      "School Name: Amity\n",
      "School Address: Greater Noida\n",
      "Distance from House to School: 5 km 200 metres\n",
      "\n",
      "Office Name: K.P 3\n",
      "Office Address: Noida\n",
      "Distance from House to Office: 10 km 500 metres\n"
     ]
    }
   ],
   "source": [
    "class Distance:\n",
    "    def __init__(self, km, metres):\n",
    "        self.km = km\n",
    "        self.metres = metres\n",
    "        \n",
    "class School(Distance):\n",
    "    def __init__(self, km, metres, name, address):\n",
    "        super().__init__(km, metres)\n",
    "        self.name = name\n",
    "        self.address = address\n",
    "\n",
    "    def display(self):\n",
    "        print(\"School Name:\", self.name)\n",
    "        print(\"School Address:\", self.address)\n",
    "        print(\"Distance from House to School:\", self.km, \"km\", self.metres, \"metres\")\n",
    "\n",
    "class Office(Distance):\n",
    "    def __init__(self, km, metres, name, address):\n",
    "        super().__init__(km, metres)\n",
    "        self.name = name\n",
    "        self.address = address\n",
    "\n",
    "    def display(self):\n",
    "        print(\"Office Name:\", self.name)\n",
    "        print(\"Office Address:\", self.address)\n",
    "        print(\"Distance from House to Office:\", self.km, \"km\", self.metres, \"metres\")\n",
    "\n",
    "# Create an instance of the School class\n",
    "school = School(5, 200, \"Amity\", \"Greater Noida\")\n",
    "\n",
    "# Create an instance of the Office class\n",
    "office = Office(10, 500, \"K.P 3\", \"Noida\")\n",
    "\n",
    "# Display details\n",
    "school.display()\n",
    "print()\n",
    "office.display()"
   ]
  },
  {
   "cell_type": "markdown",
   "id": "4ef6147e",
   "metadata": {},
   "source": [
    "#### 21. Write a program to create an abstract class Vehicle. Derive three classes Car, Motorcycle and Truck from it. Define appropriate methods and print the details of vehicle. "
   ]
  },
  {
   "cell_type": "code",
   "execution_count": 49,
   "id": "2fd62217",
   "metadata": {},
   "outputs": [
    {
     "name": "stdout",
     "output_type": "stream",
     "text": [
      "Car Details:\n",
      "Make: Toyota\n",
      "Model: Camry\n",
      "Year: 2022\n",
      "Color: Red\n",
      "\n",
      "Motorcycle Details:\n",
      "Make: Honda\n",
      "Model: CBR600RR\n",
      "Year: 2021\n",
      "Engine Displacement: 599 cc\n",
      "\n",
      "Truck Details:\n",
      "Make: Ford\n",
      "Model: F-150\n",
      "Year: 2020\n",
      "Max Payload: 1500 kg\n"
     ]
    }
   ],
   "source": [
    "from abc import ABC, abstractmethod\n",
    "class Vehicle(ABC):\n",
    "    def __init__(self, make, model, year):\n",
    "        self.make = make\n",
    "        self.model = model\n",
    "        self.year = year\n",
    "\n",
    "    @abstractmethod\n",
    "    def display_details(self):\n",
    "        pass\n",
    "\n",
    "class Car(Vehicle):\n",
    "    def __init__(self, make, model, year, color):\n",
    "        super().__init__(make, model, year)\n",
    "        self.color = color\n",
    "\n",
    "    def display_details(self):\n",
    "        print(\"Car Details:\")\n",
    "        print(\"Make:\", self.make)\n",
    "        print(\"Model:\", self.model)\n",
    "        print(\"Year:\", self.year)\n",
    "        print(\"Color:\", self.color)\n",
    "class Motorcycle(Vehicle):\n",
    "    def __init__(self, make, model, year, engine_displacement):\n",
    "        super().__init__(make, model, year)\n",
    "        self.engine_displacement = engine_displacement\n",
    "\n",
    "    def display_details(self):\n",
    "        print(\"Motorcycle Details:\")\n",
    "        print(\"Make:\", self.make)\n",
    "        print(\"Model:\", self.model)\n",
    "        print(\"Year:\", self.year)\n",
    "        print(\"Engine Displacement:\", self.engine_displacement)\n",
    "\n",
    "class Truck(Vehicle):\n",
    "    def __init__(self, make, model, year, max_payload):\n",
    "        super().__init__(make, model, year)\n",
    "        self.max_payload = max_payload\n",
    "\n",
    "    def display_details(self):\n",
    "        print(\"Truck Details:\")\n",
    "        print(\"Make:\", self.make)\n",
    "        print(\"Model:\", self.model)\n",
    "        print(\"Year:\", self.year)\n",
    "        print(\"Max Payload:\", self.max_payload)\n",
    "# Create instances of each vehicle type\n",
    "car = Car(\"Toyota\", \"Camry\", 2022, \"Red\")\n",
    "motorcycle = Motorcycle(\"Honda\", \"CBR600RR\", 2021, \"599 cc\")\n",
    "truck = Truck(\"Ford\", \"F-150\", 2020, \"1500 kg\")\n",
    "\n",
    "# Display details of each vehicle\n",
    "car.display_details()\n",
    "print()\n",
    "motorcycle.display_details()\n",
    "print()\n",
    "truck.display_details()"
   ]
  },
  {
   "cell_type": "markdown",
   "id": "bd86b2a7",
   "metadata": {},
   "source": [
    "#### 22. Write a program that has a class Polygon. Derive two classes Rectangle and triangle from polygon and write methods to get the details of their dimensions and hence calculate the area. "
   ]
  },
  {
   "cell_type": "code",
   "execution_count": 51,
   "id": "e2524f61",
   "metadata": {},
   "outputs": [
    {
     "name": "stdout",
     "output_type": "stream",
     "text": [
      "Enter dimension 1: 100\n",
      "Enter dimension 2: 200\n",
      "Enter dimension 3: 300\n",
      "Enter dimension 4: 400\n",
      "Enter dimension 1: 50\n",
      "Enter dimension 2: 100\n",
      "Enter dimension 3: 150\n",
      "Rectangle Area: 20000.0\n",
      "Triangle Area: 2500.0\n"
     ]
    }
   ],
   "source": [
    "class Polygon:\n",
    "    def __init__(self, sides):\n",
    "        self.sides = sides\n",
    "\n",
    "    def get_dimensions(self):\n",
    "        dimensions = []\n",
    "        for i in range(self.sides):\n",
    "            dimension = float(input(f\"Enter dimension {i+1}: \"))\n",
    "            dimensions.append(dimension)\n",
    "        return dimensions\n",
    "    \n",
    "class Rectangle(Polygon):\n",
    "    def __init__(self):\n",
    "        super().__init__(4)\n",
    "\n",
    "    def calculate_area(self):\n",
    "        dimensions = self.get_dimensions()\n",
    "        length, breadth = dimensions[0], dimensions[1]\n",
    "        area = length * breadth\n",
    "        return area\n",
    "\n",
    "class Triangle(Polygon):\n",
    "    def __init__(self):\n",
    "        super().__init__(3)\n",
    "\n",
    "    def calculate_area(self):\n",
    "        dimensions = self.get_dimensions()\n",
    "        base, height = dimensions[0], dimensions[1]\n",
    "        area = 0.5 * base * height\n",
    "        return area\n",
    "# Create an instance of the Rectangle class\n",
    "rectangle = Rectangle()\n",
    "rectangle_area = rectangle.calculate_area()\n",
    "\n",
    "# Create an instance of the Triangle class\n",
    "triangle = Triangle()\n",
    "triangle_area = triangle.calculate_area()\n",
    "\n",
    "print(\"Rectangle Area:\", rectangle_area)\n",
    "print(\"Triangle Area:\", triangle_area)"
   ]
  },
  {
   "cell_type": "markdown",
   "id": "0e47a13c",
   "metadata": {},
   "source": [
    "#### 23. Write a program that extends the class Shape to calculate the area of a circle and a cone .(use super to inherit base class methods) \n"
   ]
  },
  {
   "cell_type": "code",
   "execution_count": 52,
   "id": "31ff7738",
   "metadata": {},
   "outputs": [
    {
     "name": "stdout",
     "output_type": "stream",
     "text": [
      "Circle Area: 12.566370614359172\n",
      "Cone Area: 254.160184615763\n"
     ]
    }
   ],
   "source": [
    "import math\n",
    "class Shape:\n",
    "    def __init__(self):\n",
    "        pass\n",
    "\n",
    "    def calculate_area(self):\n",
    "        pass\n",
    "class Circle(Shape):\n",
    "    def __init__(self, radius):\n",
    "        super().__init__()\n",
    "        self.radius = radius\n",
    "\n",
    "    def calculate_area(self):\n",
    "        area = math.pi * self.radius * self.radius\n",
    "        return area\n",
    "class Cone(Shape):\n",
    "    def __init__(self, radius, height):\n",
    "        super().__init__()\n",
    "        self.radius = radius\n",
    "        self.height = height\n",
    "\n",
    "    def calculate_area(self):\n",
    "        base_area = math.pi * self.radius * self.radius\n",
    "        lateral_area = math.pi * self.radius * math.sqrt(self.radius * self.radius + self.height * self.height)\n",
    "        area = base_area + lateral_area\n",
    "        return area\n",
    "# Create an instance of the Circle class\n",
    "circle = Circle(2)\n",
    "circle_area = circle.calculate_area()\n",
    "print(\"Circle Area:\", circle_area)\n",
    "\n",
    "# Create an instance of the Cone class\n",
    "cone = Cone(5, 10)\n",
    "cone_area = cone.calculate_area()\n",
    "print(\"Cone Area:\", cone_area)"
   ]
  },
  {
   "cell_type": "markdown",
   "id": "d06be8f8",
   "metadata": {},
   "source": [
    "#### 24. Write a program to demonstrate hybrid inheritance and show MRO for each class"
   ]
  },
  {
   "cell_type": "code",
   "execution_count": 13,
   "id": "f0e7da5c",
   "metadata": {},
   "outputs": [
    {
     "name": "stdout",
     "output_type": "stream",
     "text": [
      "Method D from class D\n",
      "Method B from class B\n",
      "Method C from class C\n",
      "Method A from class A\n",
      "MRO for class D: [<class '__main__.D'>, <class '__main__.B'>, <class '__main__.C'>, <class '__main__.A'>, <class 'object'>]\n",
      "MRO for class B: [<class '__main__.B'>, <class '__main__.A'>, <class 'object'>]\n",
      "MRO for class C: [<class '__main__.C'>, <class '__main__.A'>, <class 'object'>]\n",
      "MRO for class A: [<class '__main__.A'>, <class 'object'>]\n"
     ]
    }
   ],
   "source": [
    "class A:\n",
    "    def method_a(self):\n",
    "        print(\"Method A from class A\")\n",
    "class B(A):\n",
    "    def method_b(self):\n",
    "        print(\"Method B from class B\")\n",
    "class C(A):\n",
    "    def method_c(self):\n",
    "        print(\"Method C from class C\")\n",
    "class D(B, C):\n",
    "    def method_d(self):\n",
    "        print(\"Method D from class D\")\n",
    "# Create an instance of class D\n",
    "d = D()\n",
    "# Call the methods from class D\n",
    "d.method_d()  # Method D from class D\n",
    "d.method_b()  # Method B from class B\n",
    "d.method_c()  # Method C from class C\n",
    "d.method_a()  # Method A from class A\n",
    "\n",
    "# Print the Method Resolution Order (MRO) for each class\n",
    "print(\"MRO for class D:\", D.mro())\n",
    "print(\"MRO for class B:\", B.mro())\n",
    "print(\"MRO for class C:\", C.mro())\n",
    "print(\"MRO for class A:\", A.mro())"
   ]
  },
  {
   "cell_type": "markdown",
   "id": "53549e3e",
   "metadata": {},
   "source": [
    "#### 25. Write a program to overload + operator to multiply to fraction object of fraction class which contain two instance variable numerator and denominator. Also, define the instance method simplify() to simplify the fraction objects"
   ]
  },
  {
   "cell_type": "code",
   "execution_count": 54,
   "id": "65453398",
   "metadata": {},
   "outputs": [
    {
     "name": "stdout",
     "output_type": "stream",
     "text": [
      "Result: 1/2\n"
     ]
    }
   ],
   "source": [
    "class Fraction:\n",
    "    def __init__(self, numerator, denominator):\n",
    "        self.numerator = numerator\n",
    "        self.denominator = denominator\n",
    "\n",
    "    def simplify(self):\n",
    "        gcd = self.compute_gcd(self.numerator, self.denominator)\n",
    "        self.numerator //= gcd\n",
    "        self.denominator //= gcd\n",
    "\n",
    "    @staticmethod\n",
    "    def compute_gcd(a, b):\n",
    "        while b:\n",
    "            a, b = b, a % b\n",
    "        return a\n",
    "\n",
    "    def __add__(self, other):\n",
    "        numerator = self.numerator * other.numerator\n",
    "        denominator = self.denominator * other.denominator\n",
    "        result = Fraction(numerator, denominator)\n",
    "        result.simplify()\n",
    "        return result\n",
    "# Create two Fraction objects\n",
    "fraction1 = Fraction(2, 3)\n",
    "fraction2 = Fraction(3, 4)\n",
    "\n",
    "# Add the Fraction objects using the + operator\n",
    "result = fraction1 + fraction2\n",
    "\n",
    "# Display the result\n",
    "print(\"Result: {}/{}\".format(result.numerator, result.denominator))"
   ]
  },
  {
   "cell_type": "markdown",
   "id": "b26fafc9",
   "metadata": {},
   "source": [
    "#### 26. Write a program to compare two-person object based on their age by overloading > operator"
   ]
  },
  {
   "cell_type": "code",
   "execution_count": 14,
   "id": "e3b45ed2",
   "metadata": {},
   "outputs": [
    {
     "name": "stdout",
     "output_type": "stream",
     "text": [
      "Ram is younger than or equal to Shyam\n"
     ]
    }
   ],
   "source": [
    "class Person:\n",
    "    def __init__(self, name, age):\n",
    "        self.name = name\n",
    "        self.age = age\n",
    "\n",
    "    def __gt__(self, other):\n",
    "        return self.age > other.age\n",
    "# Create two Person objects\n",
    "person1 = Person(\"Ram\", 25)\n",
    "person2 = Person(\"Shyam\", 30)\n",
    "\n",
    "# Compare the Person objects using the > operator\n",
    "if person1 > person2:\n",
    "    print(person1.name, \"is older than\", person2.name)\n",
    "else:\n",
    "    print(person1.name, \"is younger than or equal to\", person2.name)\n"
   ]
  },
  {
   "cell_type": "markdown",
   "id": "3372806d",
   "metadata": {},
   "source": [
    "#### 27. Write a program to overload inoperator. \n"
   ]
  },
  {
   "cell_type": "code",
   "execution_count": 16,
   "id": "1bd1e216",
   "metadata": {},
   "outputs": [
    {
     "name": "stdout",
     "output_type": "stream",
     "text": [
      "False\n",
      "True\n"
     ]
    }
   ],
   "source": [
    "class MyList:\n",
    "    def __init__(self, items):\n",
    "        self.items = items\n",
    "\n",
    "    def __contains__(self, item):\n",
    "        return item in self.items\n",
    "# Create an instance of the MyList class\n",
    "my_list = MyList([10, 20, 30, 40, 6])\n",
    "\n",
    "# Use the 'in' operator to check if an item is present in the list\n",
    "print(3 in my_list) \n",
    "print(6 in my_list)  "
   ]
  },
  {
   "cell_type": "markdown",
   "id": "f8c39e34",
   "metadata": {},
   "source": [
    "#### 28. WAP to create a Complex class having real and imaginary as it attributes. Overload the +,-,/,* and += operators for objects of Complex class. \n"
   ]
  },
  {
   "cell_type": "code",
   "execution_count": 57,
   "id": "15ff7b2f",
   "metadata": {},
   "outputs": [
    {
     "name": "stdout",
     "output_type": "stream",
     "text": [
      "Addition: 6 + 8i\n",
      "Subtraction: -2 + -2i\n",
      "Multiplication: -7 + 22i\n",
      "Division: 0.5609756097560976 + 0.04878048780487805i\n",
      "Updated complex1: 6 + 8i\n"
     ]
    }
   ],
   "source": [
    "class Complex:\n",
    "    def __init__(self, real, imaginary):\n",
    "        self.real = real\n",
    "        self.imaginary = imaginary\n",
    "\n",
    "    def __add__(self, other):\n",
    "        real = self.real + other.real\n",
    "        imaginary = self.imaginary + other.imaginary\n",
    "        return Complex(real, imaginary)\n",
    "\n",
    "    def __sub__(self, other):\n",
    "        real = self.real - other.real\n",
    "        imaginary = self.imaginary - other.imaginary\n",
    "        return Complex(real, imaginary)\n",
    "\n",
    "    def __mul__(self, other):\n",
    "        real = self.real * other.real - self.imaginary * other.imaginary\n",
    "        imaginary = self.real * other.imaginary + self.imaginary * other.real\n",
    "        return Complex(real, imaginary)\n",
    "\n",
    "    def __truediv__(self, other):\n",
    "        denominator = other.real ** 2 + other.imaginary ** 2\n",
    "        real = (self.real * other.real + self.imaginary * other.imaginary) / denominator\n",
    "        imaginary = (self.imaginary * other.real - self.real * other.imaginary) / denominator\n",
    "        return Complex(real, imaginary)\n",
    "\n",
    "    def __iadd__(self, other):\n",
    "        self.real += other.real\n",
    "        self.imaginary += other.imaginary\n",
    "        return self\n",
    "\n",
    "    def __str__(self):\n",
    "        return f\"{self.real} + {self.imaginary}i\"\n",
    "# Create two Complex objects\n",
    "complex1 = Complex(2, 3)\n",
    "complex2 = Complex(4, 5)\n",
    "\n",
    "# Add the Complex objects using the + operator\n",
    "result = complex1 + complex2\n",
    "print(\"Addition:\", result)\n",
    "\n",
    "# Subtract the Complex objects using the - operator\n",
    "result = complex1 - complex2\n",
    "print(\"Subtraction:\", result)\n",
    "\n",
    "# Multiply the Complex objects using the * operator\n",
    "result = complex1 * complex2\n",
    "print(\"Multiplication:\", result)\n",
    "\n",
    "# Divide the Complex objects using the / operator\n",
    "result = complex1 / complex2\n",
    "print(\"Division:\", result)\n",
    "\n",
    "# Update complex1 using the += operator\n",
    "complex1 += complex2\n",
    "print(\"Updated complex1:\", complex1)"
   ]
  },
  {
   "cell_type": "markdown",
   "id": "9d481bdd",
   "metadata": {},
   "source": [
    "#### 29. Write a program to inspect the object using type() ,id(), isinstance(), issubclass() and callable() built-in function. "
   ]
  },
  {
   "cell_type": "code",
   "execution_count": 58,
   "id": "c7b469ce",
   "metadata": {},
   "outputs": [
    {
     "name": "stdout",
     "output_type": "stream",
     "text": [
      "Type of obj: <class '__main__.MyClass'>\n",
      "ID of obj: 2248558082064\n",
      "Is obj an instance of MyClass? True\n",
      "Is MyClass a subclass of object? True\n",
      "Is obj callable? True\n"
     ]
    }
   ],
   "source": [
    "class MyClass:\n",
    "    def __init__(self):\n",
    "        pass\n",
    "\n",
    "    def my_method(self):\n",
    "        pass\n",
    "# Create an instance of MyClass\n",
    "obj = MyClass()\n",
    "\n",
    "# Using type() to get the type of an object\n",
    "print(\"Type of obj:\", type(obj))\n",
    "\n",
    "# Using id() to get the unique identifier of an object\n",
    "print(\"ID of obj:\", id(obj))\n",
    "\n",
    "# Using isinstance() to check if an object is an instance of a class\n",
    "print(\"Is obj an instance of MyClass?\", isinstance(obj, MyClass))\n",
    "\n",
    "# Using issubclass() to check if a class is a subclass of another class\n",
    "print(\"Is MyClass a subclass of object?\", issubclass(MyClass, object))\n",
    "\n",
    "# Using callable() to check if an object is callable\n",
    "print(\"Is obj callable?\", callable(obj.my_method))"
   ]
  },
  {
   "cell_type": "markdown",
   "id": "5a51d8da",
   "metadata": {},
   "source": [
    "#### 30. WAP to inspect the program code using the functions of inspect module"
   ]
  },
  {
   "cell_type": "code",
   "execution_count": 59,
   "id": "5e82d36b",
   "metadata": {},
   "outputs": [
    {
     "name": "stdout",
     "output_type": "stream",
     "text": [
      "Is inspect a module? True\n",
      "Is my_function a function? True\n",
      "Is MyClass a class? True\n",
      "Members of MyClass:\n",
      "__class__ -> <class 'type'>\n",
      "__delattr__ -> <slot wrapper '__delattr__' of 'object' objects>\n",
      "__dict__ -> {'__module__': '__main__', '__init__': <function MyClass.__init__ at 0x0000020B888259E0>, 'my_method': <function MyClass.my_method at 0x0000020B88825800>, '__dict__': <attribute '__dict__' of 'MyClass' objects>, '__weakref__': <attribute '__weakref__' of 'MyClass' objects>, '__doc__': None}\n",
      "__dir__ -> <method '__dir__' of 'object' objects>\n",
      "__doc__ -> None\n",
      "__eq__ -> <slot wrapper '__eq__' of 'object' objects>\n",
      "__format__ -> <method '__format__' of 'object' objects>\n",
      "__ge__ -> <slot wrapper '__ge__' of 'object' objects>\n",
      "__getattribute__ -> <slot wrapper '__getattribute__' of 'object' objects>\n",
      "__getstate__ -> <method '__getstate__' of 'object' objects>\n",
      "__gt__ -> <slot wrapper '__gt__' of 'object' objects>\n",
      "__hash__ -> <slot wrapper '__hash__' of 'object' objects>\n",
      "__init__ -> <function MyClass.__init__ at 0x0000020B888259E0>\n",
      "__init_subclass__ -> <built-in method __init_subclass__ of type object at 0x0000020B86F55620>\n",
      "__le__ -> <slot wrapper '__le__' of 'object' objects>\n",
      "__lt__ -> <slot wrapper '__lt__' of 'object' objects>\n",
      "__module__ -> __main__\n",
      "__ne__ -> <slot wrapper '__ne__' of 'object' objects>\n",
      "__new__ -> <built-in method __new__ of type object at 0x00007FF9AFF88DF0>\n",
      "__reduce__ -> <method '__reduce__' of 'object' objects>\n",
      "__reduce_ex__ -> <method '__reduce_ex__' of 'object' objects>\n",
      "__repr__ -> <slot wrapper '__repr__' of 'object' objects>\n",
      "__setattr__ -> <slot wrapper '__setattr__' of 'object' objects>\n",
      "__sizeof__ -> <method '__sizeof__' of 'object' objects>\n",
      "__str__ -> <slot wrapper '__str__' of 'object' objects>\n",
      "__subclasshook__ -> <built-in method __subclasshook__ of type object at 0x0000020B86F55620>\n",
      "__weakref__ -> <attribute '__weakref__' of 'MyClass' objects>\n",
      "my_method -> <function MyClass.my_method at 0x0000020B88825800>\n",
      "Source code of my_function:\n",
      "def my_function(a, b):\n",
      "    return a + b\n",
      "\n",
      "Documentation of MyClass:\n",
      "None\n"
     ]
    }
   ],
   "source": [
    "import inspect\n",
    "def my_function(a, b):\n",
    "    return a + b\n",
    "class MyClass:\n",
    "    def __init__(self):\n",
    "        pass\n",
    "\n",
    "    def my_method(self):\n",
    "        pass\n",
    "# Using inspect.ismodule() to check if an object is a module\n",
    "print(\"Is inspect a module?\", inspect.ismodule(inspect))\n",
    "\n",
    "# Using inspect.isfunction() to check if an object is a function\n",
    "print(\"Is my_function a function?\", inspect.isfunction(my_function))\n",
    "\n",
    "# Using inspect.isclass() to check if an object is a class\n",
    "print(\"Is MyClass a class?\", inspect.isclass(MyClass))\n",
    "\n",
    "# Using inspect.getmembers() to get members of an object\n",
    "print(\"Members of MyClass:\")\n",
    "for name, member in inspect.getmembers(MyClass):\n",
    "    print(name, \"->\", member)\n",
    "\n",
    "# Using inspect.getsource() to get the source code of a function or class\n",
    "source_code = inspect.getsource(my_function)\n",
    "print(\"Source code of my_function:\")\n",
    "print(source_code)\n",
    "\n",
    "# Using inspect.getdoc() to get the documentation of a function or class\n",
    "docstring = inspect.getdoc(MyClass)\n",
    "print(\"Documentation of MyClass:\")\n",
    "print(docstring)"
   ]
  },
  {
   "cell_type": "markdown",
   "id": "a97fc34d",
   "metadata": {},
   "source": [
    "#### 31. Write a program to create a new list containing the first letters of every element in an already existing list. \n"
   ]
  },
  {
   "cell_type": "code",
   "execution_count": 60,
   "id": "e98dd9ed",
   "metadata": {},
   "outputs": [
    {
     "name": "stdout",
     "output_type": "stream",
     "text": [
      "['a', 'b', 'c', 'd']\n"
     ]
    }
   ],
   "source": [
    "def get_first_letters(lst):\n",
    "    first_letters = [word[0] for word in lst]\n",
    "    return first_letters\n",
    "# Existing list\n",
    "existing_list = [\"apple\", \"banana\", \"cherry\", \"date\"]\n",
    "\n",
    "# Create a new list containing the first letters\n",
    "new_list = get_first_letters(existing_list)\n",
    "\n",
    "# Print the new list\n",
    "print(new_list)"
   ]
  },
  {
   "cell_type": "markdown",
   "id": "d9a2fa60",
   "metadata": {},
   "source": [
    "#### 32. Write a program using reduce() function to calculate the sum of first 10 natural numbers \n"
   ]
  },
  {
   "cell_type": "code",
   "execution_count": 61,
   "id": "b5bee4e9",
   "metadata": {},
   "outputs": [
    {
     "name": "stdout",
     "output_type": "stream",
     "text": [
      "Sum of first 10 natural numbers: 55\n"
     ]
    }
   ],
   "source": [
    "from functools import reduce\n",
    "\n",
    "# Define the reduce function\n",
    "def sum_numbers(a, b):\n",
    "    return a + b\n",
    "\n",
    "# Use reduce to calculate the sum of the first 10 natural numbers\n",
    "result = reduce(sum_numbers, range(1, 11))\n",
    "\n",
    "# Print the result\n",
    "print(\"Sum of first 10 natural numbers:\", result)"
   ]
  },
  {
   "cell_type": "markdown",
   "id": "10a61966",
   "metadata": {},
   "source": [
    "#### 33. Write a program that convert a list of temperatures in Celsius into Fahrenheit using map() function. "
   ]
  },
  {
   "cell_type": "code",
   "execution_count": 18,
   "id": "c7525196",
   "metadata": {},
   "outputs": [
    {
     "name": "stdout",
     "output_type": "stream",
     "text": [
      "Temperatures in Fahrenheit: [77.0, 86.0, 59.0, 68.0, 50.0]\n"
     ]
    }
   ],
   "source": [
    "def cel_to_fahren(celsius):\n",
    "    fahrenheit = (celsius * 9/5) + 32\n",
    "    return fahrenheit\n",
    "# List of temperatures in Celsius\n",
    "celsius_temp = [25, 30, 15, 20, 10]\n",
    "\n",
    "# Convert temperatures to Fahrenheit using map()\n",
    "fahrenheit_temp = list(map(cel_to_fahren, celsius_temp))\n",
    "\n",
    "# Print the Fahrenheit temperatures\n",
    "print(\"Temperatures in Fahrenheit:\", fahrenheit_temp)"
   ]
  },
  {
   "cell_type": "markdown",
   "id": "488cb108",
   "metadata": {},
   "source": [
    "#### 34. Write a program that creates an iterator to print squares of numbers. \n"
   ]
  },
  {
   "cell_type": "code",
   "execution_count": 19,
   "id": "5438d9c7",
   "metadata": {},
   "outputs": [
    {
     "name": "stdout",
     "output_type": "stream",
     "text": [
      "0\n",
      "1\n",
      "4\n",
      "9\n",
      "16\n"
     ]
    }
   ],
   "source": [
    "class SquareIterator:\n",
    "    def __init__(self, limit):\n",
    "        self.limit = limit\n",
    "        self.current = 0\n",
    "\n",
    "    def __iter__(self):\n",
    "        return self\n",
    "\n",
    "    def __next__(self):\n",
    "        if self.current >= self.limit:\n",
    "            raise StopIteration\n",
    "        square = self.current ** 2\n",
    "        self.current += 1\n",
    "        return square\n",
    "# Create an iterator for squares of numbers up to 5\n",
    "squares = SquareIterator(5)\n",
    "\n",
    "# Iterate and print the squares\n",
    "for square in squares:\n",
    "    print(square)"
   ]
  },
  {
   "cell_type": "markdown",
   "id": "152904a0",
   "metadata": {},
   "source": [
    "#### 35. Write a program that create a custom iterator to create even numbers. \n"
   ]
  },
  {
   "cell_type": "code",
   "execution_count": 20,
   "id": "3c04a224",
   "metadata": {},
   "outputs": [
    {
     "name": "stdout",
     "output_type": "stream",
     "text": [
      "0\n",
      "2\n",
      "4\n",
      "6\n",
      "8\n"
     ]
    }
   ],
   "source": [
    "class EvenIterator:\n",
    "    def __init__(self, limit):\n",
    "        self.limit = limit\n",
    "        self.current = 0\n",
    "\n",
    "    def __iter__(self):\n",
    "        return self\n",
    "\n",
    "    def __next__(self):\n",
    "        if self.current >= self.limit:\n",
    "            raise StopIteration\n",
    "        even_number = self.current\n",
    "        self.current += 2\n",
    "        return even_number\n",
    "# Create an iterator for even numbers up to 10\n",
    "even_numbers = EvenIterator(10)\n",
    "\n",
    "# Iterate and print the even numbers\n",
    "for even_number in even_numbers:\n",
    "    print(even_number)"
   ]
  },
  {
   "cell_type": "markdown",
   "id": "439ae7b6",
   "metadata": {},
   "source": [
    "#### 36. Write a program to create a generator that starts counting from 0 and raise an exception when counter is equal to 10. "
   ]
  },
  {
   "cell_type": "code",
   "execution_count": 21,
   "id": "f04d2708",
   "metadata": {},
   "outputs": [
    {
     "name": "stdout",
     "output_type": "stream",
     "text": [
      "0\n",
      "1\n",
      "2\n",
      "3\n",
      "4\n",
      "5\n",
      "6\n",
      "7\n",
      "8\n",
      "9\n"
     ]
    },
    {
     "ename": "RuntimeError",
     "evalue": "generator raised StopIteration",
     "output_type": "error",
     "traceback": [
      "\u001b[1;31m---------------------------------------------------------------------------\u001b[0m",
      "\u001b[1;31mStopIteration\u001b[0m                             Traceback (most recent call last)",
      "Cell \u001b[1;32mIn[21], line 5\u001b[0m, in \u001b[0;36mcount_up_to_10\u001b[1;34m()\u001b[0m\n\u001b[0;32m      4\u001b[0m \u001b[38;5;28;01mif\u001b[39;00m counter \u001b[38;5;241m==\u001b[39m \u001b[38;5;241m10\u001b[39m:\n\u001b[1;32m----> 5\u001b[0m     \u001b[38;5;28;01mraise\u001b[39;00m \u001b[38;5;167;01mStopIteration\u001b[39;00m(\u001b[38;5;124m\"\u001b[39m\u001b[38;5;124mCounter reached 10\u001b[39m\u001b[38;5;124m\"\u001b[39m)\n\u001b[0;32m      6\u001b[0m \u001b[38;5;28;01myield\u001b[39;00m counter\n",
      "\u001b[1;31mStopIteration\u001b[0m: Counter reached 10",
      "\nThe above exception was the direct cause of the following exception:\n",
      "\u001b[1;31mRuntimeError\u001b[0m                              Traceback (most recent call last)",
      "Cell \u001b[1;32mIn[21], line 13\u001b[0m\n\u001b[0;32m     11\u001b[0m \u001b[38;5;66;03m# Iterate and print the counter values\u001b[39;00m\n\u001b[0;32m     12\u001b[0m \u001b[38;5;28;01mtry\u001b[39;00m:\n\u001b[1;32m---> 13\u001b[0m     \u001b[38;5;28;01mfor\u001b[39;00m counter \u001b[38;5;129;01min\u001b[39;00m counter_generator:\n\u001b[0;32m     14\u001b[0m         \u001b[38;5;28mprint\u001b[39m(counter)\n\u001b[0;32m     15\u001b[0m \u001b[38;5;28;01mexcept\u001b[39;00m \u001b[38;5;167;01mStopIteration\u001b[39;00m \u001b[38;5;28;01mas\u001b[39;00m e:\n",
      "\u001b[1;31mRuntimeError\u001b[0m: generator raised StopIteration"
     ]
    }
   ],
   "source": [
    "def count_up_to_10():\n",
    "    counter = 0\n",
    "    while True:\n",
    "        if counter == 10:\n",
    "            raise StopIteration(\"Counter reached 10\")\n",
    "        yield counter\n",
    "        counter += 1\n",
    "# Create a generator that counts up to 10\n",
    "counter_generator = count_up_to_10()\n",
    "\n",
    "# Iterate and print the counter values\n",
    "try:\n",
    "    for counter in counter_generator:\n",
    "        print(counter)\n",
    "except StopIteration as e:\n",
    "    print(e)"
   ]
  },
  {
   "cell_type": "markdown",
   "id": "9c16dae7",
   "metadata": {},
   "source": [
    "#### 37. Write a program to create a generator to print the Fibonacci number. "
   ]
  },
  {
   "cell_type": "code",
   "execution_count": 6,
   "id": "a20c026b",
   "metadata": {},
   "outputs": [
    {
     "name": "stdout",
     "output_type": "stream",
     "text": [
      "5 6 11 17 28 45 73 "
     ]
    }
   ],
   "source": [
    "def fibo(n):\n",
    "    a, b = 5,6\n",
    "    while a<n:\n",
    "        yield a\n",
    "        a, b = b, b + a\n",
    "# Create a Fibonacci number generator\n",
    "fibo_generator = fibo(100)\n",
    "\n",
    "for i in fibo_generator:\n",
    "    print(i,end=\" \")"
   ]
  },
  {
   "cell_type": "markdown",
   "id": "9c8324e3",
   "metadata": {},
   "source": [
    "#### 38. Write a program to create an arithmetic calculator using tkinter."
   ]
  },
  {
   "cell_type": "code",
   "execution_count": 8,
   "id": "c0f4883a",
   "metadata": {},
   "outputs": [],
   "source": [
    "import tkinter as tk\n",
    "\n",
    "def calculate():\n",
    "    try:\n",
    "        expression = entry.get()\n",
    "        result = eval(expression)\n",
    "        output_label.config(text=\"Result: \" + str(result))\n",
    "    except Exception as e:\n",
    "        output_label.config(text=\"Error: \" + str(e))\n",
    "\n",
    "# Create the Tkinter window\n",
    "window = tk.Tk()\n",
    "window.title(\"Arithmetic Calculator\")\n",
    "\n",
    "entry = tk.Entry(window, width=30)# Create the entry field for input\n",
    "entry.pack()\n",
    "\n",
    "# Create the button for calculation\n",
    "calculate_button = tk.Button(window, text=\"Calculate\", command=calculate)\n",
    "calculate_button.pack()\n",
    "\n",
    "# Create the label for displaying the result or error\n",
    "output_label = tk.Label(window, text=\"\")\n",
    "output_label.pack()\n",
    "\n",
    "window.mainloop()  # Run the Tkinter event loop"
   ]
  },
  {
   "cell_type": "markdown",
   "id": "a41dfa49",
   "metadata": {},
   "source": [
    "#### 39. Write a program to draw colored shapes (line, rectangle, oval) on canvas."
   ]
  },
  {
   "cell_type": "code",
   "execution_count": 69,
   "id": "c9581b27",
   "metadata": {},
   "outputs": [],
   "source": [
    "import tkinter as tk\n",
    "\n",
    "def draw_line():\n",
    "    canvas.create_line(50, 50, 200, 50, fill=\"red\")\n",
    "\n",
    "def draw_rectangle():\n",
    "    canvas.create_rectangle(50, 100, 200, 200, fill=\"blue\")\n",
    "\n",
    "def draw_oval():\n",
    "    canvas.create_oval(50, 250, 200, 350, fill=\"green\")\n",
    "\n",
    "window = tk.Tk()# Create the Tkinter window\n",
    "window.title(\"Drawing Shapes\")\n",
    "\n",
    "# Create the canvas for drawing\n",
    "canvas = tk.Canvas(window, width=250, height=400)\n",
    "canvas.pack()\n",
    "\n",
    "# Create buttons for drawing shapes\n",
    "line_button = tk.Button(window, text=\"Draw Line\", command=draw_line)\n",
    "line_button.pack()\n",
    "\n",
    "rectangle_button = tk.Button(window, text=\"Draw Rectangle\", command=draw_rectangle)\n",
    "rectangle_button.pack()\n",
    "\n",
    "oval_button = tk.Button(window, text=\"Draw Oval\", command=draw_oval)\n",
    "oval_button.pack()\n",
    "window.mainloop()# Run the Tkinter event loop"
   ]
  },
  {
   "cell_type": "markdown",
   "id": "96980f4b",
   "metadata": {},
   "source": [
    "#### 40. Write a program to create a window that disappears automatically after 5 seconds. "
   ]
  },
  {
   "cell_type": "code",
   "execution_count": 9,
   "id": "5da8c549",
   "metadata": {},
   "outputs": [],
   "source": [
    "import tkinter as tk\n",
    "window = tk.Tk()# Create the Tkinter window\n",
    "window.title(\"Auto Close Window\")\n",
    "def close_window():# Function to close the window\n",
    "    window.destroy()\n",
    "\n",
    "# Schedule the window to close after 5 seconds\n",
    "window.after(5000, close_window)\n",
    "window.mainloop()# Run the Tkinter event loop"
   ]
  },
  {
   "cell_type": "markdown",
   "id": "abaf6e4b",
   "metadata": {},
   "source": [
    "#### 41. Write a program to create a button and a label inside the frame widget. Button should change the color upon hovering over the button and label should disappear on clicking the button. "
   ]
  },
  {
   "cell_type": "code",
   "execution_count": 23,
   "id": "1f42709e",
   "metadata": {},
   "outputs": [],
   "source": [
    "import tkinter as tk\n",
    "\n",
    "# Function to change button color on hover\n",
    "def change_button_color(event):\n",
    "    button.config(bg='Blue')\n",
    "\n",
    "# Function to make label disappear on button click\n",
    "def hide_label():\n",
    "    label.pack_forget()\n",
    "\n",
    "# Create the Tkinter window\n",
    "window = tk.Tk()\n",
    "window.title(\"Button and Label\")\n",
    "\n",
    "# Create the frame\n",
    "frame = tk.Frame(window, width=200, height=200)\n",
    "frame.pack()\n",
    "\n",
    "# Create the button\n",
    "button = tk.Button(frame, text=\"Button\")\n",
    "button.bind('<Enter>', change_button_color)  # Bind hover event to change_button_color function\n",
    "button.pack()\n",
    "\n",
    "label = tk.Label(frame, text=\"Label\")# Create the label\n",
    "label.pack()\n",
    "\n",
    "# Configure button command to hide_label function\n",
    "button.config(command=hide_label)\n",
    "window.mainloop()# Run the Tkinter event loop"
   ]
  },
  {
   "cell_type": "markdown",
   "id": "a886a16c",
   "metadata": {},
   "source": [
    "#### 42. Write a program to create radio-buttons (Male, Female, and Transgender) and a label. Default selection should be on Female and the label must display the current selection made by user. \n"
   ]
  },
  {
   "cell_type": "code",
   "execution_count": 72,
   "id": "eeaa0a97",
   "metadata": {},
   "outputs": [],
   "source": [
    "import tkinter as tk\n",
    "\n",
    "# Function to update label text based on radio button selection\n",
    "def update_label():\n",
    "    selection = gender.get()\n",
    "    label.config(text=\"Selected: \" + selection)\n",
    "\n",
    "window = tk.Tk()# Create the Tkinter window\n",
    "window.title(\"Radio Buttons\")\n",
    "\n",
    "# Create a Tkinter StringVar to store the selected gender\n",
    "gender = tk.StringVar()\n",
    "\n",
    "# Set the default selection to Female\n",
    "gender.set(\"Female\")\n",
    "\n",
    "# Create the radio buttons\n",
    "male_radio = tk.Radiobutton(window, text=\"Male\", variable=gender, value=\"Male\", command=update_label)\n",
    "female_radio = tk.Radiobutton(window, text=\"Female\", variable=gender, value=\"Female\", command=update_label)\n",
    "transgender_radio = tk.Radiobutton(window, text=\"Transgender\", variable=gender, value=\"Transgender\", command=update_label)\n",
    "\n",
    "# Create the label\n",
    "label = tk.Label(window, text=\"Selected: \" + gender.get())\n",
    "\n",
    "# Position the radio buttons and label using grid layout\n",
    "male_radio.grid(row=0, column=0)\n",
    "female_radio.grid(row=0, column=1)\n",
    "transgender_radio.grid(row=0, column=2)\n",
    "label.grid(row=1, columnspan=3)\n",
    "window.mainloop()# Run the Tkinter event loop"
   ]
  },
  {
   "cell_type": "markdown",
   "id": "c61fee50",
   "metadata": {},
   "source": [
    "#### 43. Write a program to display a menu on the menu bar"
   ]
  },
  {
   "cell_type": "code",
   "execution_count": 73,
   "id": "f38e37fa",
   "metadata": {},
   "outputs": [],
   "source": [
    "import tkinter as tk\n",
    "\n",
    "# Function to handle the \"File -> New\" menu command\n",
    "def new_file():\n",
    "    print(\"New File\")\n",
    "\n",
    "# Function to handle the \"File -> Open\" menu command\n",
    "def open_file():\n",
    "    print(\"Open File\")\n",
    "\n",
    "# Function to handle the \"File -> Save\" menu command\n",
    "def save_file():\n",
    "    print(\"Save File\")\n",
    "\n",
    "# Function to handle the \"Edit -> Cut\" menu command\n",
    "def cut_text():\n",
    "    print(\"Cut Text\")\n",
    "\n",
    "# Function to handle the \"Edit -> Copy\" menu command\n",
    "def copy_text():\n",
    "    print(\"Copy Text\")\n",
    "\n",
    "# Function to handle the \"Edit -> Paste\" menu command\n",
    "def paste_text():\n",
    "    print(\"Paste Text\")\n",
    "\n",
    "# Create the Tkinter window\n",
    "window = tk.Tk()\n",
    "window.title(\"Menu Example\")\n",
    "\n",
    "# Create the menu bar\n",
    "menu_bar = tk.Menu(window)\n",
    "\n",
    "# Create the \"File\" menu\n",
    "file_menu = tk.Menu(menu_bar, tearoff=0)\n",
    "file_menu.add_command(label=\"New\", command=new_file)\n",
    "file_menu.add_command(label=\"Open\", command=open_file)\n",
    "file_menu.add_command(label=\"Save\", command=save_file)\n",
    "file_menu.add_separator()\n",
    "file_menu.add_command(label=\"Exit\", command=window.quit)\n",
    "\n",
    "# Create the \"Edit\" menu\n",
    "edit_menu = tk.Menu(menu_bar, tearoff=0)\n",
    "edit_menu.add_command(label=\"Cut\", command=cut_text)\n",
    "edit_menu.add_command(label=\"Copy\", command=copy_text)\n",
    "edit_menu.add_command(label=\"Paste\", command=paste_text)\n",
    "\n",
    "# Add the menus to the menu bar\n",
    "menu_bar.add_cascade(label=\"File\", menu=file_menu)\n",
    "menu_bar.add_cascade(label=\"Edit\", menu=edit_menu)\n",
    "\n",
    "# Configure the window to use the menu bar\n",
    "window.config(menu=menu_bar)\n",
    "\n",
    "# Run the Tkinter event loop\n",
    "window.mainloop()"
   ]
  },
  {
   "cell_type": "markdown",
   "id": "4202135a",
   "metadata": {},
   "source": [
    "#### 44. Write a NumPy program to create an array of (3, 4) shape, multiply every element value by 3 and display the new array. \n"
   ]
  },
  {
   "cell_type": "code",
   "execution_count": null,
   "id": "674b308f",
   "metadata": {},
   "outputs": [],
   "source": [
    "import numpy as np\n",
    "\n",
    "# Create the array of shape (3, 4)\n",
    "arr = np.array([[1, 2, 3, 4],\n",
    "                [5, 6, 7, 8],\n",
    "                [9, 10, 11, 12]])\n",
    "\n",
    "# Multiply every element value by 3\n",
    "new_arr = arr * 3\n",
    "\n",
    "# Display the new array\n",
    "print(new_arr)"
   ]
  },
  {
   "cell_type": "markdown",
   "id": "0fd1628a",
   "metadata": {},
   "source": [
    "#### 45. Write a NumPy program to compute the multiplication of two given matrixes. "
   ]
  },
  {
   "cell_type": "code",
   "execution_count": null,
   "id": "693430ba",
   "metadata": {},
   "outputs": [],
   "source": [
    "import numpy as np\n",
    "\n",
    "# Define the first matrix\n",
    "matrix1 = np.array([[10, 20, 30],\n",
    "                    [40, 50, 60]])\n",
    "\n",
    "# Define the second matrix\n",
    "matrix2 = np.array([[7, 8],\n",
    "                    [9, 10],\n",
    "                    [11, 12]])\n",
    "\n",
    "# Perform matrix multiplication\n",
    "result = np.dot(matrix1, matrix2)\n",
    "\n",
    "# Display the result\n",
    "print(result)"
   ]
  },
  {
   "cell_type": "markdown",
   "id": "29020126",
   "metadata": {},
   "source": [
    "#### 46. Write a Program to create a series from a list, numpy array and dict. "
   ]
  },
  {
   "cell_type": "code",
   "execution_count": null,
   "id": "d9a3c1c4",
   "metadata": {},
   "outputs": [],
   "source": [
    "import pandas as pd\n",
    "import numpy as np\n",
    "\n",
    "# Create a Series from a list\n",
    "list_data = [10, 20, 30, 40, 50]\n",
    "list_series = pd.Series(list_data)\n",
    "print(\"Series from list:\")\n",
    "print(list_series)\n",
    "\n",
    "# Create a Series from a NumPy array\n",
    "array_data = np.array([0.5, 0.8, 1.2, 1.5, 2.0])\n",
    "array_series = pd.Series(array_data)\n",
    "print(\"\\nSeries from NumPy array:\")\n",
    "print(array_series)\n",
    "\n",
    "# Create a Series from a dictionary\n",
    "dict_data = {'A': 100, 'B': 200, 'C': 300, 'D': 400}\n",
    "dict_series = pd.Series(dict_data)\n",
    "print(\"\\nSeries from dictionary:\")\n",
    "print(dict_series)"
   ]
  },
  {
   "cell_type": "markdown",
   "id": "6e2b9b58",
   "metadata": {},
   "source": [
    "#### 47. Write a Program to convert a numpy array to a dataframe of given shape"
   ]
  },
  {
   "cell_type": "code",
   "execution_count": null,
   "id": "99962fe0",
   "metadata": {},
   "outputs": [],
   "source": [
    "import pandas as pd\n",
    "import numpy as np\n",
    "# Define the shape of the DataFrame\n",
    "rows = 4\n",
    "columns = 3\n",
    "\n",
    "# Create a NumPy array of random values with the desired shape\n",
    "numpy_array = np.random.rand(rows, columns)\n",
    "\n",
    "# Convert the NumPy array to a DataFrame\n",
    "dataframe = pd.DataFrame(numpy_array)\n",
    "print(dataframe)# Display the DataFrame"
   ]
  },
  {
   "cell_type": "markdown",
   "id": "ae3ca8be",
   "metadata": {},
   "source": [
    "#### 48. Write a program to count number of missing values in each column. "
   ]
  },
  {
   "cell_type": "code",
   "execution_count": null,
   "id": "c07b59b1",
   "metadata": {},
   "outputs": [],
   "source": [
    "import pandas as pd\n",
    "\n",
    "# Create a sample DataFrame with missing values\n",
    "data = {'Column1': [1, 2, 3, None, 5],\n",
    "        'Column2': [6, None, 8, 9, 10],\n",
    "        'Column3': [11, 12, None, 14, 15]}\n",
    "df = pd.DataFrame(data)\n",
    "\n",
    "# Count the number of missing values in each column\n",
    "missing_values_count = df.isnull().sum()\n",
    "\n",
    "print(missing_values_count)# Display the result"
   ]
  },
  {
   "cell_type": "markdown",
   "id": "2b945418",
   "metadata": {},
   "source": [
    "#### 49. Write a program to replace missing values in a column of a dataframe by the mean value of that column."
   ]
  },
  {
   "cell_type": "code",
   "execution_count": null,
   "id": "ad4e6cfe",
   "metadata": {},
   "outputs": [],
   "source": [
    "import pandas as pd\n",
    "import numpy as np\n",
    "\n",
    "# Create a sample DataFrame with missing values\n",
    "data = {'Column1': [1, 2, 3, None, 5],\n",
    "        'Column2': [6, None, 8, 9, 10],\n",
    "        'Column3': [11, 12, None, 14, 15]}\n",
    "df = pd.DataFrame(data)\n",
    "\n",
    "# Replace missing values with the mean value of each column\n",
    "df_filled = df.fillna(df.mean())\n",
    "\n",
    "# Display the DataFrame with missing values replaced\n",
    "print(df_filled)"
   ]
  },
  {
   "cell_type": "markdown",
   "id": "a0b8665a",
   "metadata": {},
   "source": [
    "#### 50. Write a Pandas program to create a line plot of the opening, closing stock prices of Alphabet Inc. between two specific dates. Use the alphabet_stock_data.csv file to extract data."
   ]
  },
  {
   "cell_type": "code",
   "execution_count": null,
   "id": "8448cc98",
   "metadata": {},
   "outputs": [],
   "source": [
    "import pandas as pd\n",
    "import matplotlib.pyplot as plt\n",
    "\n",
    "# Load the data from the CSV file\n",
    "df = pd.read_csv('alphabet_stock_data.csv')\n",
    "\n",
    "# Convert the 'Date' column to datetime format\n",
    "df['Date'] = pd.to_datetime(df['Date'])\n",
    "\n",
    "# Filter the data based on the specific dates\n",
    "start_date = '2023-01-01'\n",
    "end_date = '2023-03-31'\n",
    "filtered_df = df[(df['Date'] >= start_date) & (df['Date'] <= end_date)]\n",
    "\n",
    "# Extract the required columns\n",
    "dates = filtered_df['Date']\n",
    "opening_prices = filtered_df['Open']\n",
    "closing_prices = filtered_df['Close']\n",
    "\n",
    "# Create the line plot\n",
    "plt.plot(dates, opening_prices, label='Opening Price')\n",
    "plt.plot(dates, closing_prices, label='Closing Price')\n",
    "\n",
    "# Set the title and labels\n",
    "plt.title('Stock Prices of Alphabet Inc. (Opening and Closing)')\n",
    "plt.xlabel('Date')\n",
    "plt.ylabel('Price')\n",
    "\n",
    "# Rotate the x-axis labels for better visibility\n",
    "plt.xticks(rotation=45)\n",
    "plt.legend()# Add a legend\n",
    "\n",
    "plt.show()# Display the plot"
   ]
  }
 ],
 "metadata": {
  "kernelspec": {
   "display_name": "Python 3 (ipykernel)",
   "language": "python",
   "name": "python3"
  },
  "language_info": {
   "codemirror_mode": {
    "name": "ipython",
    "version": 3
   },
   "file_extension": ".py",
   "mimetype": "text/x-python",
   "name": "python",
   "nbconvert_exporter": "python",
   "pygments_lexer": "ipython3",
   "version": "3.11.0"
  }
 },
 "nbformat": 4,
 "nbformat_minor": 5
}
